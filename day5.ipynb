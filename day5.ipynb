{
 "cells": [
  {
   "cell_type": "code",
   "execution_count": 839,
   "metadata": {
    "collapsed": true
   },
   "outputs": [
    {
     "name": "stdout",
     "output_type": "stream",
     "text": [
      "import\n"
     ]
    }
   ],
   "source": [
    "from numpy import loadtxt\n",
    "import numpy as np\n",
    "print('import')"
   ]
  },
  {
   "cell_type": "code",
   "execution_count": 840,
   "outputs": [
    {
     "data": {
      "text/plain": "array(['593,10 -> 593,98', '777,236 -> 964,236', '650,575 -> 476,575',\n       '120,612 -> 715,17', '508,707 -> 508,89'], dtype='<U18')"
     },
     "execution_count": 840,
     "metadata": {},
     "output_type": "execute_result"
    }
   ],
   "source": [
    "data = loadtxt('input/day5', dtype='str', delimiter='\\n', )\n",
    "data[:5]"
   ],
   "metadata": {
    "collapsed": false,
    "pycharm": {
     "name": "#%%\n"
    }
   }
  },
  {
   "cell_type": "code",
   "execution_count": 841,
   "outputs": [
    {
     "name": "stdout",
     "output_type": "stream",
     "text": [
      "['593,10,593,98' '777,236,964,236' '650,575,476,575' '120,612,715,17'\n",
      " '508,707,508,89']\n"
     ]
    }
   ],
   "source": [
    "for i in range(len(data)):\n",
    "    space = str.index(data[i], ' ')\n",
    "    data[i] = data[i][0:space] + ',' + data[i][str.index(data[i], ' ', space + 1) + 1:]\n",
    "print(data[:5])"
   ],
   "metadata": {
    "collapsed": false,
    "pycharm": {
     "name": "#%%\n"
    }
   }
  },
  {
   "cell_type": "code",
   "execution_count": 842,
   "outputs": [
    {
     "name": "stdout",
     "output_type": "stream",
     "text": [
      "[[593  10 593  98]\n",
      " [777 236 964 236]\n",
      " [650 575 476 575]\n",
      " ...\n",
      " [405 793 405 183]\n",
      " [232 704 232 389]\n",
      " [130 706 130 657]]\n"
     ]
    }
   ],
   "source": [
    "intData = np.ones((len(data), 4), dtype=int)\n",
    "for i in range(len(data)):\n",
    "    points = data[i].split(',')\n",
    "    for j in range(4):\n",
    "        intData[i, j] = points[j]\n",
    "print(intData)"
   ],
   "metadata": {
    "collapsed": false,
    "pycharm": {
     "name": "#%%\n"
    }
   }
  },
  {
   "cell_type": "code",
   "execution_count": 843,
   "outputs": [
    {
     "name": "stdout",
     "output_type": "stream",
     "text": [
      "[[593  10 593  98]\n",
      " [777 236 964 236]\n",
      " [650 575 476 575]\n",
      " ...\n",
      " [405 793 405 183]\n",
      " [232 704 232 389]\n",
      " [130 706 130 657]]\n"
     ]
    }
   ],
   "source": [
    "lines = 0\n",
    "def linecheck(arr):\n",
    "    if arr[0] == arr[2] or arr[1] == arr[3]:\n",
    "        return True\n",
    "\n",
    "for i in range(len(intData)):\n",
    "    if linecheck(intData[i]):\n",
    "        lines += 1\n",
    "\n",
    "lineData = np.ones((lines, 4), dtype=int)\n",
    "lineDataIndex = 0\n",
    "for i in range(len(intData)):\n",
    "    if linecheck(intData[i]):\n",
    "        lineData[lineDataIndex] = intData[i]\n",
    "        lineDataIndex += 1\n",
    "print(lineData)"
   ],
   "metadata": {
    "collapsed": false,
    "pycharm": {
     "name": "#%%\n"
    }
   }
  },
  {
   "cell_type": "code",
   "execution_count": 844,
   "outputs": [],
   "source": [
    "def countPoints(arr):\n",
    "    x1 = arr[0]\n",
    "    y1 = arr[1]\n",
    "    x2 = arr[2]\n",
    "    y2 = arr[3]\n",
    "    distance = abs((x1 - x2) + (y1 - y2))\n",
    "    return distance + 1"
   ],
   "metadata": {
    "collapsed": false,
    "pycharm": {
     "name": "#%%\n"
    }
   }
  },
  {
   "cell_type": "code",
   "execution_count": 845,
   "outputs": [
    {
     "name": "stdout",
     "output_type": "stream",
     "text": [
      "114355\n"
     ]
    }
   ],
   "source": [
    "totalPoints = 0\n",
    "for i in lineData:\n",
    "    totalPoints += countPoints(i)\n",
    "print(totalPoints)"
   ],
   "metadata": {
    "collapsed": false,
    "pycharm": {
     "name": "#%%\n"
    }
   }
  },
  {
   "cell_type": "code",
   "execution_count": 846,
   "outputs": [
    {
     "name": "stdout",
     "output_type": "stream",
     "text": [
      "114355\n",
      "[[1 1]\n",
      " [1 1]\n",
      " [1 1]\n",
      " ...\n",
      " [1 1]\n",
      " [1 1]\n",
      " [1 1]]\n"
     ]
    }
   ],
   "source": [
    "pointsArr = np.ones((totalPoints, 2), dtype=int)\n",
    "print(len(pointsArr))\n",
    "print(pointsArr)"
   ],
   "metadata": {
    "collapsed": false,
    "pycharm": {
     "name": "#%%\n"
    }
   }
  },
  {
   "cell_type": "code",
   "execution_count": 847,
   "outputs": [],
   "source": [
    "def points(arr, count):\n",
    "    x1 = arr[0]\n",
    "    y1 = arr[1]\n",
    "    x2 = arr[2]\n",
    "    y2 = arr[3]\n",
    "    if x1 == x2:\n",
    "        distance = abs(y2 - y1)\n",
    "        updown = True\n",
    "    else:\n",
    "        distance = abs(x2 - x1)\n",
    "        updown = False\n",
    "\n",
    "    for i in range(distance + 1):\n",
    "        if updown:\n",
    "            if y1 > y2:\n",
    "                pointsArr[count] = np.array((x1, y2 + i))\n",
    "            else:\n",
    "                pointsArr[count] = np.array((x1, y1 + i))\n",
    "        else:\n",
    "            if x1 > x2:\n",
    "                pointsArr[count] = np.array((x2 + i, y1))\n",
    "            else:\n",
    "                pointsArr[count] = np.array((x1 + i, y1))\n",
    "        count += 1\n",
    "    return count"
   ],
   "metadata": {
    "collapsed": false,
    "pycharm": {
     "name": "#%%\n"
    }
   }
  },
  {
   "cell_type": "code",
   "execution_count": 848,
   "outputs": [
    {
     "data": {
      "text/plain": "array([[593,  10],\n       [593,  11],\n       [593,  12],\n       ...,\n       [130, 704],\n       [130, 705],\n       [130, 706]])"
     },
     "execution_count": 848,
     "metadata": {},
     "output_type": "execute_result"
    }
   ],
   "source": [
    "pointCount = 0\n",
    "for i in lineData:\n",
    "    pointCount = points(i, pointCount)\n",
    "\n",
    "pointsArr"
   ],
   "metadata": {
    "collapsed": false,
    "pycharm": {
     "name": "#%%\n"
    }
   }
  },
  {
   "cell_type": "code",
   "execution_count": 849,
   "outputs": [
    {
     "data": {
      "text/plain": "array([[ 13, 403,   1],\n       [ 14, 403,   1],\n       [ 15, 403,   1],\n       ...,\n       [987, 583,   1],\n       [987, 584,   1],\n       [987, 585,   1]], dtype=int64)"
     },
     "execution_count": 849,
     "metadata": {},
     "output_type": "execute_result"
    }
   ],
   "source": [
    "unique, counts = np.unique(pointsArr, return_counts=True, axis=0)\n",
    "\n",
    "result = np.column_stack((unique, counts))\n",
    "result"
   ],
   "metadata": {
    "collapsed": false,
    "pycharm": {
     "name": "#%%\n"
    }
   }
  },
  {
   "cell_type": "code",
   "execution_count": 850,
   "outputs": [
    {
     "name": "stdout",
     "output_type": "stream",
     "text": [
      "7468\n"
     ]
    }
   ],
   "source": [
    "countArr = result[:, 2]\n",
    "print(np.count_nonzero(countArr > 1))"
   ],
   "metadata": {
    "collapsed": false,
    "pycharm": {
     "name": "#%%\n"
    }
   }
  },
  {
   "cell_type": "markdown",
   "source": [
    "Part 2"
   ],
   "metadata": {
    "collapsed": false
   }
  },
  {
   "cell_type": "code",
   "execution_count": 851,
   "outputs": [],
   "source": [
    "from math import sqrt\n",
    "def countPointsDiag(arr):\n",
    "    x1 = arr[0]\n",
    "    y1 = arr[1]\n",
    "    x2 = arr[2]\n",
    "    y2 = arr[3]\n",
    "    distance = abs(x1 - x2) + 1\n",
    "    return int(distance)"
   ],
   "metadata": {
    "collapsed": false,
    "pycharm": {
     "name": "#%%\n"
    }
   }
  },
  {
   "cell_type": "code",
   "execution_count": 852,
   "outputs": [
    {
     "name": "stdout",
     "output_type": "stream",
     "text": [
      "208543\n"
     ]
    }
   ],
   "source": [
    "totalPoints2 = 0\n",
    "for i in intData:\n",
    "    totalPoints2 += countPoints(i)\n",
    "print(totalPoints2)"
   ],
   "metadata": {
    "collapsed": false,
    "pycharm": {
     "name": "#%%\n"
    }
   }
  },
  {
   "cell_type": "code",
   "execution_count": 853,
   "outputs": [
    {
     "name": "stdout",
     "output_type": "stream",
     "text": [
      "208543\n",
      "[[1 1]\n",
      " [1 1]\n",
      " [1 1]\n",
      " ...\n",
      " [1 1]\n",
      " [1 1]\n",
      " [1 1]]\n"
     ]
    }
   ],
   "source": [
    "pointsArr2 = np.ones((totalPoints2, 2), dtype=int)\n",
    "print(len(pointsArr2))\n",
    "print(pointsArr2)"
   ],
   "metadata": {
    "collapsed": false,
    "pycharm": {
     "name": "#%%\n"
    }
   }
  },
  {
   "cell_type": "code",
   "execution_count": 854,
   "outputs": [],
   "source": [
    "def pointsDiag(arr, count):\n",
    "    x1 = arr[0]\n",
    "    y1 = arr[1]\n",
    "    x2 = arr[2]\n",
    "    y2 = arr[3]\n",
    "    if (y2 - y1) / (x2 - x1) > 0:\n",
    "        positive = True\n",
    "    else:\n",
    "        positive = False\n",
    "\n",
    "    distance = countPointsDiag(arr)\n",
    "\n",
    "    for i in range(distance):\n",
    "        if positive:\n",
    "            if y2 > y1:\n",
    "                pointsArr2[count] = np.array((x1 + i, y1 + i))\n",
    "            else:\n",
    "                pointsArr2[count] = np.array((x2 + i, y2 + i))\n",
    "        else:\n",
    "            if y2 > y1:\n",
    "                pointsArr2[count] = np.array((x1 - i, y1 + i))\n",
    "            else:\n",
    "                pointsArr2[count] = np.array((x1 + i, y1 - i))\n",
    "        count += 1\n",
    "    return count"
   ],
   "metadata": {
    "collapsed": false,
    "pycharm": {
     "name": "#%%\n"
    }
   }
  },
  {
   "cell_type": "code",
   "execution_count": 855,
   "outputs": [],
   "source": [
    "def points2(arr, count):\n",
    "    x1 = arr[0]\n",
    "    y1 = arr[1]\n",
    "    x2 = arr[2]\n",
    "    y2 = arr[3]\n",
    "    if x1 == x2:\n",
    "        distance = abs(y2 - y1)\n",
    "        updown = True\n",
    "    else:\n",
    "        distance = abs(x2 - x1)\n",
    "        updown = False\n",
    "\n",
    "    for i in range(distance + 1):\n",
    "        if updown:\n",
    "            if y1 > y2:\n",
    "                pointsArr2[count] = np.array((x1, y2 + i))\n",
    "            else:\n",
    "                pointsArr2[count] = np.array((x1, y1 + i))\n",
    "        else:\n",
    "            if x1 > x2:\n",
    "                pointsArr2[count] = np.array((x2 + i, y1))\n",
    "            else:\n",
    "                pointsArr2[count] = np.array((x1 + i, y1))\n",
    "        count += 1\n",
    "    return count"
   ],
   "metadata": {
    "collapsed": false,
    "pycharm": {
     "name": "#%%\n"
    }
   }
  },
  {
   "cell_type": "code",
   "execution_count": 856,
   "outputs": [],
   "source": [
    "#pointsDiag([9, 7, 7, 9], 0)\n",
    "#points2([0, 0, 0, 5], 0)\n",
    "#pointsArr2"
   ],
   "metadata": {
    "collapsed": false,
    "pycharm": {
     "name": "#%%\n"
    }
   }
  },
  {
   "cell_type": "code",
   "execution_count": 857,
   "outputs": [
    {
     "data": {
      "text/plain": "array([[593,  10],\n       [593,  11],\n       [593,  12],\n       ...,\n       [  1,   1],\n       [  1,   1],\n       [  1,   1]])"
     },
     "execution_count": 857,
     "metadata": {},
     "output_type": "execute_result"
    }
   ],
   "source": [
    "pointCount2 = 0\n",
    "for i in intData:\n",
    "    if linecheck(i):\n",
    "        pointCount2 = points2(i, pointCount2)\n",
    "    else:\n",
    "        pointCount2 = pointsDiag(i, pointCount2)\n",
    "\n",
    "pointsArr2"
   ],
   "metadata": {
    "collapsed": false,
    "pycharm": {
     "name": "#%%\n"
    }
   }
  },
  {
   "cell_type": "code",
   "execution_count": 858,
   "outputs": [
    {
     "data": {
      "text/plain": "array([[    1,     1, 14189],\n       [   11,   274,     1],\n       [   11,   840,     1],\n       ...,\n       [  988,    23,     1],\n       [  989,    10,     1],\n       [  989,    22,     1]], dtype=int64)"
     },
     "execution_count": 858,
     "metadata": {},
     "output_type": "execute_result"
    }
   ],
   "source": [
    "unique, counts = np.unique(pointsArr2, return_counts=True, axis=0)\n",
    "\n",
    "result = np.column_stack((unique, counts))\n",
    "result"
   ],
   "metadata": {
    "collapsed": false,
    "pycharm": {
     "name": "#%%\n"
    }
   }
  },
  {
   "cell_type": "code",
   "execution_count": 859,
   "outputs": [
    {
     "name": "stdout",
     "output_type": "stream",
     "text": [
      "[ True False False ... False False False]\n"
     ]
    }
   ],
   "source": [
    "countArr = result[:, 2]\n",
    "print(countArr > 1)"
   ],
   "metadata": {
    "collapsed": false,
    "pycharm": {
     "name": "#%%\n"
    }
   }
  },
  {
   "cell_type": "code",
   "execution_count": 860,
   "outputs": [
    {
     "name": "stdout",
     "output_type": "stream",
     "text": [
      "22364\n"
     ]
    }
   ],
   "source": [
    "print(np.count_nonzero(countArr > 1) - 1)"
   ],
   "metadata": {
    "collapsed": false,
    "pycharm": {
     "name": "#%%\n"
    }
   }
  }
 ],
 "metadata": {
  "kernelspec": {
   "display_name": "Python 3",
   "language": "python",
   "name": "python3"
  },
  "language_info": {
   "codemirror_mode": {
    "name": "ipython",
    "version": 2
   },
   "file_extension": ".py",
   "mimetype": "text/x-python",
   "name": "python",
   "nbconvert_exporter": "python",
   "pygments_lexer": "ipython2",
   "version": "2.7.6"
  }
 },
 "nbformat": 4,
 "nbformat_minor": 0
}