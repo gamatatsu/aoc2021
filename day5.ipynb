{
 "cells": [
  {
   "cell_type": "code",
   "execution_count": 101,
   "metadata": {
    "collapsed": true
   },
   "outputs": [
    {
     "name": "stdout",
     "output_type": "stream",
     "text": [
      "import\n"
     ]
    }
   ],
   "source": [
    "from numpy import loadtxt\n",
    "import numpy as np\n",
    "print('import')"
   ]
  },
  {
   "cell_type": "code",
   "execution_count": 102,
   "outputs": [
    {
     "name": "stdout",
     "output_type": "stream",
     "text": [
      "['0,9 -> 5,9' '8,0 -> 0,8' '9,4 -> 3,4' '2,2 -> 2,1' '7,0 -> 7,4'\n",
      " '6,4 -> 2,0' '0,9 -> 2,9' '3,4 -> 1,4' '0,0 -> 8,8' '5,5 -> 8,2']\n"
     ]
    }
   ],
   "source": [
    "data = loadtxt('input/day5demo', dtype='str', delimiter='\\n', )\n",
    "print(data)"
   ],
   "metadata": {
    "collapsed": false,
    "pycharm": {
     "name": "#%%\n"
    }
   }
  },
  {
   "cell_type": "code",
   "execution_count": 103,
   "outputs": [
    {
     "name": "stdout",
     "output_type": "stream",
     "text": [
      "['0,9,5,9' '8,0,0,8' '9,4,3,4' '2,2,2,1' '7,0,7,4' '6,4,2,0' '0,9,2,9'\n",
      " '3,4,1,4' '0,0,8,8' '5,5,8,2']\n"
     ]
    }
   ],
   "source": [
    "for i in range(len(data)):\n",
    "    space = str.index(data[i], ' ')\n",
    "    data[i] = data[i][0:space] + ',' + data[i][str.index(data[i], ' ', space + 1) + 1:]\n",
    "print(data)"
   ],
   "metadata": {
    "collapsed": false,
    "pycharm": {
     "name": "#%%\n"
    }
   }
  },
  {
   "cell_type": "code",
   "execution_count": 104,
   "outputs": [
    {
     "name": "stdout",
     "output_type": "stream",
     "text": [
      "[[0 9 5 9]\n",
      " [8 0 0 8]\n",
      " [9 4 3 4]\n",
      " [2 2 2 1]\n",
      " [7 0 7 4]\n",
      " [6 4 2 0]\n",
      " [0 9 2 9]\n",
      " [3 4 1 4]\n",
      " [0 0 8 8]\n",
      " [5 5 8 2]]\n"
     ]
    }
   ],
   "source": [
    "intData = np.ones((len(data), 4), dtype=int)\n",
    "for i in range(len(data)):\n",
    "    points = data[i].split(',')\n",
    "    for j in range(4):\n",
    "        intData[i, j] = points[j]\n",
    "print(intData)"
   ],
   "metadata": {
    "collapsed": false,
    "pycharm": {
     "name": "#%%\n"
    }
   }
  },
  {
   "cell_type": "code",
   "execution_count": 105,
   "outputs": [
    {
     "name": "stdout",
     "output_type": "stream",
     "text": [
      "[[0 9 5 9]\n",
      " [9 4 3 4]\n",
      " [2 2 2 1]\n",
      " [7 0 7 4]\n",
      " [0 9 2 9]\n",
      " [3 4 1 4]]\n"
     ]
    }
   ],
   "source": [
    "lines = 0\n",
    "def linecheck(arr):\n",
    "    if arr[0] == arr[2] or arr[1] == arr[3]:\n",
    "        return True\n",
    "\n",
    "for i in range(len(intData)):\n",
    "    if linecheck(intData[i]):\n",
    "        lines += 1\n",
    "\n",
    "lineData = np.ones((lines, 4), dtype=int)\n",
    "lineDataIndex = 0\n",
    "for i in range(len(intData)):\n",
    "    if linecheck(intData[i]):\n",
    "        lineData[lineDataIndex] = intData[i]\n",
    "        lineDataIndex += 1\n",
    "print(lineData)"
   ],
   "metadata": {
    "collapsed": false,
    "pycharm": {
     "name": "#%%\n"
    }
   }
  },
  {
   "cell_type": "code",
   "execution_count": 105,
   "outputs": [],
   "source": [],
   "metadata": {
    "collapsed": false,
    "pycharm": {
     "name": "#%%\n"
    }
   }
  }
 ],
 "metadata": {
  "kernelspec": {
   "display_name": "Python 3",
   "language": "python",
   "name": "python3"
  },
  "language_info": {
   "codemirror_mode": {
    "name": "ipython",
    "version": 2
   },
   "file_extension": ".py",
   "mimetype": "text/x-python",
   "name": "python",
   "nbconvert_exporter": "python",
   "pygments_lexer": "ipython2",
   "version": "2.7.6"
  }
 },
 "nbformat": 4,
 "nbformat_minor": 0
}