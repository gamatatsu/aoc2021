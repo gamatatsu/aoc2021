{
 "cells": [
  {
   "cell_type": "code",
   "execution_count": 666,
   "metadata": {
    "collapsed": true,
    "pycharm": {
     "name": "#%%\n"
    }
   },
   "outputs": [
    {
     "name": "stdout",
     "output_type": "stream",
     "text": [
      "import\n"
     ]
    }
   ],
   "source": [
    "import numpy as np\n",
    "from numpy import loadtxt\n",
    "print('import')"
   ]
  },
  {
   "cell_type": "code",
   "execution_count": 667,
   "outputs": [
    {
     "name": "stdout",
     "output_type": "stream",
     "text": [
      "[93 49 16 88  4 92 23 38 44 98 97  8  5 69 41 70 19 11 29 40 90 43 79 96\n",
      " 68 10 31 35 34 32  0 67 83 33  2 76 24 87 99 77 82 66 12 15 28 59 64 95\n",
      " 91 71 62 22 53 46 39 81 75 86 74 56 50 18 17 73 13 54 60 48 21 51 52 55\n",
      " 85 80 30 36 47  3 26 57 84 25 63 27 37 94  7 45 58  9 78 65 72  6 14 61\n",
      " 20  1 42 89]\n"
     ]
    }
   ],
   "source": [
    "seq = loadtxt('input/day4', dtype=int, max_rows=1, delimiter=',')\n",
    "cards = loadtxt('input/day4', dtype='str', skiprows=2, delimiter='\\n')\n",
    "print(seq)"
   ],
   "metadata": {
    "collapsed": false,
    "pycharm": {
     "name": "#%%\n"
    }
   }
  },
  {
   "cell_type": "code",
   "execution_count": 668,
   "outputs": [],
   "source": [
    "cardList = []\n",
    "for i in cards:\n",
    "    nums = i.split(' ')\n",
    "    nums = list(filter(lambda val: val != '', nums))\n",
    "    nums = list(map(int, nums))\n",
    "    cardList.append(nums)\n"
   ],
   "metadata": {
    "collapsed": false,
    "pycharm": {
     "name": "#%%\n"
    }
   }
  },
  {
   "cell_type": "code",
   "execution_count": 669,
   "outputs": [],
   "source": [
    "plus = []\n",
    "cardFinal = []\n",
    "for i in range(0, len(cardList)):\n",
    "    plus.append(cardList[i])\n",
    "    if (i + 1) % 5 == 0:\n",
    "        cardFinal.append(plus)\n",
    "        plus = []\n"
   ],
   "metadata": {
    "collapsed": false,
    "pycharm": {
     "name": "#%%\n"
    }
   }
  },
  {
   "cell_type": "code",
   "execution_count": 670,
   "outputs": [],
   "source": [
    "card = np.empty((len(cardFinal), 5, 5), dtype=int)\n",
    "for i in range(0, len(cardFinal)):\n",
    "    for j in range(0, len(cardFinal[i])):\n",
    "        for k in range(0, len(cardFinal[i][j])):\n",
    "            card[i, j, k] = cardFinal[i][j][k]"
   ],
   "metadata": {
    "collapsed": false,
    "pycharm": {
     "name": "#%%\n"
    }
   }
  },
  {
   "cell_type": "code",
   "execution_count": 671,
   "outputs": [],
   "source": [
    "boolCard = np.zeros((len(cardFinal), 5, 5), dtype=int)"
   ],
   "metadata": {
    "collapsed": false,
    "pycharm": {
     "name": "#%%\n"
    }
   }
  },
  {
   "cell_type": "code",
   "execution_count": 672,
   "outputs": [],
   "source": [
    "def winCheck(arr):\n",
    "    win = np.ones(5, dtype=int)\n",
    "    for i in range(0, 5):\n",
    "        if np.array_equal(arr[i], win) or np.array_equal(arr[:, i], win):\n",
    "            return True\n",
    "    return False"
   ],
   "metadata": {
    "collapsed": false,
    "pycharm": {
     "name": "#%%\n"
    }
   }
  },
  {
   "cell_type": "code",
   "execution_count": 673,
   "outputs": [],
   "source": [
    "def bingoNumber(bingoCard, index, bingoNum):\n",
    "    for i in range(0, len(bingoCard)):\n",
    "        for j in range(0, len(bingoCard[i])):\n",
    "            if bingoCard[i, j] == bingoNum:\n",
    "                boolCard[index, i, j] = 1"
   ],
   "metadata": {
    "collapsed": false,
    "pycharm": {
     "name": "#%%\n"
    }
   }
  },
  {
   "cell_type": "code",
   "execution_count": 674,
   "outputs": [
    {
     "name": "stdout",
     "output_type": "stream",
     "text": [
      "[[91 22 89 72 82]\n",
      " [63 58 80 42 45]\n",
      " [11 40 29 41 90]\n",
      " [17 16 62 14 35]\n",
      " [23  4 65 79  0]]\n",
      "[[0 0 0 0 0]\n",
      " [0 0 0 0 0]\n",
      " [1 1 1 1 1]\n",
      " [0 1 0 0 0]\n",
      " [1 1 0 0 0]]\n",
      "62\n",
      "done\n"
     ]
    }
   ],
   "source": [
    "winningNum = -1\n",
    "winBool = False\n",
    "for num in seq:\n",
    "    if winBool == True:\n",
    "        break\n",
    "    for bingoCardIndex in range(0, len(card)):\n",
    "        bingoNumber(card[bingoCardIndex], bingoCardIndex, num)\n",
    "        if winCheck(boolCard[bingoCardIndex]):\n",
    "            print(card[bingoCardIndex])\n",
    "            print(boolCard[bingoCardIndex])\n",
    "            print(bingoCardIndex)\n",
    "            winningNum = num\n",
    "            winningIndex = bingoCardIndex\n",
    "            winBool = True\n",
    "\n",
    "print('done')"
   ],
   "metadata": {
    "collapsed": false,
    "pycharm": {
     "name": "#%%\n"
    }
   }
  },
  {
   "cell_type": "code",
   "execution_count": 675,
   "outputs": [],
   "source": [
    "def score(bingoCardIndex):\n",
    "    scorelist = []\n",
    "    for i in range(0, len(card[bingoCardIndex])):\n",
    "        for j in range(0, len(card[bingoCardIndex, i])):\n",
    "            if boolCard[bingoCardIndex, i, j] == 0:\n",
    "                scorelist.append(card[bingoCardIndex, i, j])\n",
    "    print(scorelist)\n",
    "    return sum(scorelist) * winningNum"
   ],
   "metadata": {
    "collapsed": false,
    "pycharm": {
     "name": "#%%\n"
    }
   }
  },
  {
   "cell_type": "code",
   "execution_count": 676,
   "outputs": [
    {
     "name": "stdout",
     "output_type": "stream",
     "text": [
      "[91, 22, 89, 72, 82, 63, 58, 80, 42, 45, 17, 62, 14, 35, 65, 79, 0]\n",
      "82440\n"
     ]
    }
   ],
   "source": [
    "print(score(winningIndex))"
   ],
   "metadata": {
    "collapsed": false,
    "pycharm": {
     "name": "#%%\n"
    }
   }
  },
  {
   "cell_type": "code",
   "execution_count": 676,
   "outputs": [],
   "source": [],
   "metadata": {
    "collapsed": false,
    "pycharm": {
     "name": "#%%\n"
    }
   }
  }
 ],
 "metadata": {
  "kernelspec": {
   "display_name": "Python 3",
   "language": "python",
   "name": "python3"
  },
  "language_info": {
   "codemirror_mode": {
    "name": "ipython",
    "version": 2
   },
   "file_extension": ".py",
   "mimetype": "text/x-python",
   "name": "python",
   "nbconvert_exporter": "python",
   "pygments_lexer": "ipython2",
   "version": "2.7.6"
  }
 },
 "nbformat": 4,
 "nbformat_minor": 0
}