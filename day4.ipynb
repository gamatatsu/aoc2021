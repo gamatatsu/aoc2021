{
 "cells": [
  {
   "cell_type": "code",
   "execution_count": 2,
   "metadata": {
    "collapsed": true,
    "pycharm": {
     "name": "#%%\n"
    }
   },
   "outputs": [
    {
     "name": "stdout",
     "output_type": "stream",
     "text": [
      "import\n"
     ]
    }
   ],
   "source": [
    "import numpy as np\n",
    "from numpy import loadtxt\n",
    "print('import')"
   ]
  },
  {
   "cell_type": "code",
   "execution_count": 4,
   "outputs": [
    {
     "name": "stdout",
     "output_type": "stream",
     "text": [
      "[ 7  4  9  5 11 17 23  2  0 14 21 24 10 16 13  6 15 25 12 22 18 20  8 19\n",
      "  3 26  1]\n"
     ]
    }
   ],
   "source": [
    "seq = loadtxt('input/day4demo', dtype=int, max_rows=1, delimiter=',')\n",
    "print(seq)"
   ],
   "metadata": {
    "collapsed": false,
    "pycharm": {
     "name": "#%%\n"
    }
   }
  },
  {
   "cell_type": "code",
   "execution_count": 7,
   "outputs": [
    {
     "name": "stdout",
     "output_type": "stream",
     "text": [
      "['22 13 17 11  0' ' 8  2 23  4 24' '21  9 14 16  7' ' 6 10  3 18  5'\n",
      " ' 1 12 20 15 19' ' 3 15  0  2 22' ' 9 18 13 17  5' '19  8  7 25 23'\n",
      " '20 11 10 24  4' '14 21 16 12  6' '14 21 17 24  4' '10 16 15  9 19'\n",
      " '18  8 23 26 20' '22 11 13  6  5' ' 2  0 12  3  7']\n"
     ]
    }
   ],
   "source": [
    "cards = loadtxt('input/day4demo', dtype='str', skiprows=2, delimiter='\\n')\n",
    "print(cards)"
   ],
   "metadata": {
    "collapsed": false,
    "pycharm": {
     "name": "#%%\n"
    }
   }
  },
  {
   "cell_type": "code",
   "execution_count": 8,
   "outputs": [
    {
     "ename": "SyntaxError",
     "evalue": "unexpected EOF while parsing (Temp/ipykernel_15128/4113024728.py, line 1)",
     "output_type": "error",
     "traceback": [
      "\u001B[1;36m  File \u001B[1;32m\"C:\\Users\\cooli\\AppData\\Local\\Temp/ipykernel_15128/4113024728.py\"\u001B[1;36m, line \u001B[1;32m1\u001B[0m\n\u001B[1;33m    for i in range(0, len(cards)):\u001B[0m\n\u001B[1;37m                                  ^\u001B[0m\n\u001B[1;31mSyntaxError\u001B[0m\u001B[1;31m:\u001B[0m unexpected EOF while parsing\n"
     ]
    }
   ],
   "source": [
    "cards2 = []\n",
    "for i in range(1, len(cards) + 1):\n",
    "    newCard ="
   ],
   "metadata": {
    "collapsed": false,
    "pycharm": {
     "name": "#%%\n"
    }
   }
  },
  {
   "cell_type": "code",
   "execution_count": null,
   "outputs": [],
   "source": [],
   "metadata": {
    "collapsed": false,
    "pycharm": {
     "name": "#%%\n"
    }
   }
  }
 ],
 "metadata": {
  "kernelspec": {
   "display_name": "Python 3",
   "language": "python",
   "name": "python3"
  },
  "language_info": {
   "codemirror_mode": {
    "name": "ipython",
    "version": 2
   },
   "file_extension": ".py",
   "mimetype": "text/x-python",
   "name": "python",
   "nbconvert_exporter": "python",
   "pygments_lexer": "ipython2",
   "version": "2.7.6"
  }
 },
 "nbformat": 4,
 "nbformat_minor": 0
}